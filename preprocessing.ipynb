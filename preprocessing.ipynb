{
 "cells": [
  {
   "cell_type": "code",
   "execution_count": 1,
   "metadata": {},
   "outputs": [],
   "source": [
    "import numpy as np\n",
    "import pandas as pd\n",
    "from simulation import polymer\n",
    "from data_processing import comparison"
   ]
  },
  {
   "cell_type": "code",
   "execution_count": null,
   "metadata": {},
   "outputs": [],
   "source": []
  },
  {
   "cell_type": "code",
   "execution_count": 2,
   "metadata": {},
   "outputs": [],
   "source": [
    "exp_df = pd.read_excel('polymer_20k.xlsx')\n",
    "exp_molmass = exp_df[exp_df.columns[0]].values\n",
    "exp_values = exp_df[exp_df.columns[1]].values\n",
    "exp_chainlen = (exp_molmass / 99.13).astype(int)\n",
    "exp_cl_min = exp_chainlen.min()\n",
    "# exp_chainlen = np.concatenate((np.arange(1, exp_cl_min), exp_chainlen))\n",
    "exp_cl_val = dict(zip(exp_chainlen, exp_values))\n",
    "exp_cl_val.update(zip(np.arange(1, exp_cl_min + 1), np.zeros(exp_cl_min)))\n",
    "exp_val = np.array(list(exp_cl_val.values()))\n",
    "exp_val = np.concatenate((np.zeros(exp_cl_min - 1), exp_val))        "
   ]
  },
  {
   "cell_type": "code",
   "execution_count": 3,
   "metadata": {},
   "outputs": [],
   "source": [
    "sim_data = np.load('output.npy')\n",
    "dead, living, coupled = sim_data\n",
    "sim_data = np.concatenate((dead, living, coupled))\n",
    "sim_cl_max = sim_data.max()\n",
    "sim_val, sim_bins = np.histogram(sim_data, bins=np.arange(sim_cl_max + 1))\n"
   ]
  },
  {
   "cell_type": "code",
   "execution_count": 4,
   "metadata": {},
   "outputs": [],
   "source": [
    "diff = int(sim_cl_max - exp_val.shape[0])        \n",
    "\n",
    "if diff > 0:\n",
    "    exp_val = np.concatenate((exp_val, np.zeros(abs(diff))))\n",
    "elif diff < 0:            \n",
    "    sim_val = np.concatenate((sim_val, np.zeros(abs(diff))))\n",
    "\n",
    "exp_val_max = exp_val.max()\n",
    "exp_norm = (exp_val) / exp_val_max\n",
    "exp_norm_sum = np.sum(exp_norm)\n",
    "\n",
    "sim_val_max = sim_val.max()\n",
    "sim_norm = (sim_val) / sim_val_max\n",
    "sim_norm_sum = np.sum(sim_norm)"
   ]
  },
  {
   "cell_type": "code",
   "execution_count": 5,
   "metadata": {},
   "outputs": [
    {
     "name": "stdout",
     "output_type": "stream",
     "text": [
      "18.314729135579768\n"
     ]
    }
   ],
   "source": [
    "if exp_norm_sum > sim_norm_sum:\n",
    "    difference = np.sum(abs(exp_norm - sim_norm))/(sim_norm_sum/exp_norm_sum)**2\n",
    "    print(difference)\n",
    "\n",
    "else:\n",
    "    difference = np.sum(abs(exp_norm - sim_norm))/(exp_norm_sum/sim_norm_sum)**2\n",
    "    print(difference)"
   ]
  },
  {
   "cell_type": "code",
   "execution_count": 6,
   "metadata": {},
   "outputs": [],
   "source": [
    "diff = Difference('polymer_20k.xlsx', polymer)"
   ]
  },
  {
   "cell_type": "code",
   "execution_count": 8,
   "metadata": {},
   "outputs": [
    {
     "name": "stdout",
     "output_type": "stream",
     "text": [
      "47.695963573395936\n"
     ]
    },
    {
     "data": {
      "text/plain": [
       "47.695963573395936"
      ]
     },
     "execution_count": 8,
     "metadata": {},
     "output_type": "execute_result"
    }
   ],
   "source": [
    "diff.get_difference([21000, 40000, 2000000, 0.99999, 0.25, 0.6000000000000001, 0.14000000000000007, 0.22800000000000006, 0.09936000000000009, 1])"
   ]
  },
  {
   "cell_type": "code",
   "execution_count": 15,
   "metadata": {},
   "outputs": [
    {
     "name": "stdout",
     "output_type": "stream",
     "text": [
      "17.401798276636484\n"
     ]
    },
    {
     "data": {
      "text/plain": [
       "17.401798276636484"
      ]
     },
     "execution_count": 15,
     "metadata": {},
     "output_type": "execute_result"
    }
   ],
   "source": [
    "diff.get_difference([17834, 85679, 9629850, 0.7602559749341187, 0.6078207221760001, 0.7605084723200001, 0.22081152000000007, 0.21983230935040007, 0.37168618496, 0])"
   ]
  },
  {
   "cell_type": "code",
   "execution_count": null,
   "metadata": {
    "collapsed": true
   },
   "outputs": [],
   "source": []
  }
 ],
 "metadata": {
  "kernelspec": {
   "display_name": "Python 3",
   "language": "python",
   "name": "python3"
  },
  "language_info": {
   "codemirror_mode": {
    "name": "ipython",
    "version": 3
   },
   "file_extension": ".py",
   "mimetype": "text/x-python",
   "name": "python",
   "nbconvert_exporter": "python",
   "pygments_lexer": "ipython3",
   "version": "3.6.3"
  }
 },
 "nbformat": 4,
 "nbformat_minor": 2
}
