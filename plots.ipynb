{
 "cells": [
  {
   "cell_type": "code",
   "execution_count": 12,
   "metadata": {},
   "outputs": [],
   "source": [
    "from simulation import polymer\n",
    "from distributionComparison import minMaxNorm, medianFoldNorm\n",
    "import matplotlib.pyplot as plt\n",
    "import numpy as np\n",
    "import pickle"
   ]
  },
  {
   "cell_type": "code",
   "execution_count": 21,
   "metadata": {},
   "outputs": [],
   "source": [
    "yb1 = np.load('eval_20k_MAT_EI_ls_0point1.npy')\n",
    "yb1_2 = np.load('eval2_20k_MAT_EI_ls_0point1.npy')\n",
    "yb1_3 = np.load('eval3_20k_MAT_EI_ls_0point1.npy')\n",
    "yb2 = np.load('eval_20k_MAT_EI_ls_1.npy')\n",
    "# yb2_2 = np.load('eval2_20k_MAT_EI_ls_1.npy')\n",
    "yb3 = np.load('eval_20k_MAT_EI_ls_10.npy')\n",
    "yb3_2 = np.load('eval2_20k_MAT_EI_ls_10.npy')\n",
    "yb4 = np.load('eval_20k_MAT_EI_ls_50.npy')\n",
    "yb5 = np.load('eval_20k_MAT_PI_ls_0point1.npy')\n",
    "yb5_2 = np.load('eval2_20k_MAT_PI_ls_0point1.npy')\n",
    "yb5_3 = np.load('eval3_20k_MAT_PI_ls_0point1.npy')\n",
    "yb6 = np.load('eval_20k_MAT_PI_ls_1.npy')\n",
    "yb6_2 = np.load('eval2_20k_MAT_PI_ls_1.npy')\n",
    "yb7 = np.load('eval_20k_MAT_PI_ls_10.npy')\n",
    "yb7_2 = np.load('eval2_20k_MAT_PI_ls_10.npy')\n",
    "yb8 = np.load('eval_20k_MAT_PI_ls_50.npy')\n",
    "yb9 = np.load('eval_20k_RBF_EI_ls_0point1.npy')\n",
    "yb9_2 = np.load('eval2_20k_RBF_EI_ls_0point1.npy')\n",
    "yb9_3 = np.load('eval3_20k_RBF_EI_ls_0point1.npy')\n",
    "yb10 = np.load('eval_20k_RBF_EI_ls_1.npy')\n",
    "# yb10_2 = np.load('eval2_20k_RBF_EI_ls_1.npy')\n",
    "yb11 = np.load('eval_20k_RBF_EI_ls_10.npy')\n",
    "# yb11_2 = np.load('eval2_20k_RBF_EI_ls_10.npy')\n",
    "yb12 = np.load('eval_20k_RBF_EI_ls_50.npy')\n",
    "yb13 = np.load('eval_20k_RBF_PI_ls_0point1.npy')\n",
    "yb13_2 = np.load('eval2_20k_RBF_PI_ls_0point1.npy')\n",
    "yb13_3 = np.load('eval3_20k_RBF_PI_ls_0point1.npy')\n",
    "yb14 = np.load('eval_20k_RBF_PI_ls_1.npy')\n",
    "# yb14_2 = np.load('eval2_20k_RBF_PI_ls_1.npy')\n",
    "yb15 = np.load('eval_20k_RBF_PI_ls_10.npy')\n",
    "# yb15_2 = np.load('eval2_20k_RBF_PI_ls_10.npy')\n",
    "yb16 = np.load('eval_20k_RBF_PI_ls_50.npy')\n"
   ]
  },
  {
   "cell_type": "code",
   "execution_count": 24,
   "metadata": {},
   "outputs": [
    {
     "name": "stdout",
     "output_type": "stream",
     "text": [
      "Using matplotlib backend: TkAgg\n"
     ]
    },
    {
     "data": {
      "text/plain": [
       "<matplotlib.legend.Legend at 0x7f09bc95e860>"
      ]
     },
     "execution_count": 24,
     "metadata": {},
     "output_type": "execute_result"
    }
   ],
   "source": [
    "#Plot the results from the experiments\n",
    "%matplotlib\n",
    "fig = plt.figure(figsize=(15,15))\n",
    "ax1 = fig.add_subplot(111)\n",
    "# ax1.plot(range(len(yb1[2:])),yb1[2:], label='Matern | ExpectedImprovement | lengthscale=0.1')#, color='g')\n",
    "# ax1.plot(range(len(yb1_2[2:])),yb1_2[2:], label='Matern | ExpectedImprovement | lengthscale=0.1')#, color='g')\n",
    "# ax1.plot(range(len(yb1_3[2:])),yb1_3[2:], label='Matern | ExpectedImprovement | lengthscale=0.1')#, color='g')\n",
    "ax1.errorbar(range(len(yb1[2:])),np.mean([yb1[2:],yb1_2[2:],yb1_3[2:]],axis=0), label='Matern | ExpectedImprovement | lengthscale=0.1')#, color='g')\n",
    "# ax1.errorbar(range(len(yb1[2:])),np.mean([yb1[2:],yb1_2[2:],yb1_3[2:]],axis=0),np.std([yb1[2:],yb1_2[2:]],axis=0), label='Matern | ExpectedImprovement | lengthscale=0.1')#, color='g')\n",
    "\n",
    "# ax1.plot(range(len(yb2[2:])),yb2[2:], label='Matern | ExpectedImprovement | lengthscale=1')#, color='r')\n",
    "# ax1.plot(range(len(yb2_2[2:])),yb2_2[2:], label='Matern | ExpectedImprovement | lengthscale=1')#, color='r')\n",
    "# ax1.plot(range(len(yb2_3[2:])),yb2_3[2:], label='Matern | ExpectedImprovement | lengthscale=1')#, color='r')\n",
    "# ax1.errorbar(range(len(yb2[2:])),np.mean([yb2[2:],yb2_2[2:],yb2_3[2:]],axis=0), label='Matern | ExpectedImprovement | lengthscale=1')#, color='g')\n",
    "# ax1.errorbar(range(len(yb2[2:])),np.mean([yb2[2:],yb2_2[2:],yb2_3[2:]],axis=0),np.std([yb2[2:],yb2_2[2:],yb2_3[2:]],axis=0), label='Matern | ExpectedImprovement | lengthscale=1')#, color='g')\n",
    "\n",
    "# ax1.plot(range(len(yb3[2:])),yb3[2:], label='Matern | ExpectedImprovement | lengthscale=10')#, color='b')\n",
    "# ax1.plot(range(len(yb3_2[2:])),yb3_2[2:], label='Matern | ExpectedImprovement | lengthscale=10')#, color='b')\n",
    "# ax1.plot(range(len(yb3_3[2:])),yb3_3[2:], label='Matern | ExpectedImprovement | lengthscale=10')#, color='b')\n",
    "# ax1.errorbar(range(len(yb3[2:])),np.mean([yb3[2:],yb3_2[2:],yb3_3[2:]],axis=0), label='Matern | ExpectedImprovement | lengthscale=10')#, color='g')\n",
    "# ax1.errorbar(range(len(yb3[2:])),np.mean([yb3[2:],yb3_2[2:],yb3_3[2:]],axis=0),np.std([yb3[2:],yb3_2[2:],yb3_3[2:]],axis=0), label='Matern | ExpectedImprovement | lengthscale=10')#, color='g')\n",
    "\n",
    "# ax1.plot(range(len(yb4[2:])),yb4[2:], label='Matern | ExpectedImprovement | lengthscale=50')#, color='b')\n",
    "\n",
    "# ax1.plot(range(len(yb5)),yb5, label='Matern | ProbabilityImprovement | lengthscale=0.1')#, color='g')\n",
    "# ax1.plot(range(len(yb5_2)),yb5_2, label='Matern | ProbabilityImprovement | lengthscale=0.1')#, color='g')\n",
    "# ax1.plot(range(len(yb5_3)),yb5_3, label='Matern | ProbabilityImprovement | lengthscale=0.1')#, color='g')\n",
    "# ax1.errorbar(range(len(yb5[3:])),np.mean([yb5[3:],yb5_2[3:],yb5_3[3:]],axis=0),label='Matern | ProbabilityImprovement | lengthscale=0.1')#, color='g')\n",
    "# ax1.errorbar(range(len(yb5[3:])),np.mean([yb5[3:],yb5_2[3:],yb5_3[3:]],axis=0),np.std([yb5[3:],yb5_2[3:],yb5_3[3:]],axis=0), label='Matern | ProbabilityImprovement | lengthscale=0.1')#, color='g')\n",
    "\n",
    "# ax1.plot(range(len(yb6)),yb6, label='Matern | ProbabilityImprovement | lengthscale=1')#, color='r')\n",
    "# ax1.plot(range(len(yb6_2)),yb6_2, label='Matern | ProbabilityImprovement | lengthscale=1')#, color='r')\n",
    "# ax1.plot(range(len(yb6_3)),yb6_3, label='Matern | ProbabilityImprovement | lengthscale=1')#, color='r')\n",
    "# ax1.errorbar(range(len(yb6[3:])),np.mean([yb6[3:],yb6_2[3:],yb6_3[3:]],axis=0),label='Matern | ProbabilityImprovement | lengthscale=1')#, color='g')\n",
    "# ax1.errorbar(range(len(yb6[3:])),np.mean([yb6[3:],yb6_2[3:],yb6_3[3:]],axis=0),np.std([yb6[3:],yb6_2[3:],yb6_3[3:]],axis=0), label='Matern | ProbabilityImprovement | lengthscale=1')#, color='g')\n",
    "\n",
    "# ax1.plot(range(len(yb7)),yb7, label='Matern | ProbabilityImprovement | lengthscale=10')#, color='b')\n",
    "# ax1.plot(range(len(yb7_2)),yb7_2, label='Matern | ProbabilityImprovement | lengthscale=10')#, color='b')\n",
    "# ax1.plot(range(len(yb7_3)),yb7_3, label='Matern | ProbabilityImprovement | lengthscale=10')#, color='b')\n",
    "# ax1.errorbar(range(len(yb7[3:])),np.mean([yb7[3:],yb7_2[3:],yb7_3[3:]],axis=0),label='Matern | ProbabilityImprovement | lengthscale=10')#, color='g')\n",
    "# ax1.errorbar(range(len(yb7[3:])),np.mean([yb7[3:],yb7_2[3:],yb7_3[3:]],axis=0),np.std([yb7[3:],yb7_2[3:],yb7_3[3:]],axis=0), label='Matern | ProbabilityImprovement | lengthscale=10')#, color='g')\n",
    "\n",
    "# ax1.plot(range(len(yb8)),yb8, label='Matern | ProbabilityImprovement | lengthscale=50')#, color='b')\n",
    "\n",
    "# ax1.plot(range(len(yb9)),yb9, label='RBF | ExpectedImprovement | lengthscale=0.1')#, color='g')\n",
    "# ax1.plot(range(len(yb9_2)),yb9_2, label='RBF | ExpectedImprovement | lengthscale=0.1')#, color='g')\n",
    "# ax1.plot(range(len(yb9_3)),yb9_3, label='RBF | ExpectedImprovement | lengthscale=0.1')#, color='g')\n",
    "# ax1.errorbar(range(len(yb9[2:])),np.mean([yb9[2:],yb9_2[2:],yb9_3[2:]],axis=0),label='RBF | ExpectedImprovement | lengthscale=0.1')#, color='g')\n",
    "# ax1.errorbar(range(len(yb9[2:])),np.mean([yb9[2:],yb9_2[2:],yb9_3[2:]],axis=0),np.std([yb9[2:],yb9_2[2:],yb9_3[2:]],axis=0), label='RBF | ExpectedImprovement | lengthscale=0.1')#, color='g')\n",
    "\n",
    "# ax1.plot(range(len(yb10)),yb10, label='RBF | ExpectedImprovement | lengthscale=1')#, color='r')\n",
    "# ax1.plot(range(len(yb10_2)),yb10_2, label='RBF | ExpectedImprovement | lengthscale=1')#, color='r')\n",
    "# ax1.plot(range(len(yb10_3)),yb10_3, label='RBF | ExpectedImprovement | lengthscale=1')#, color='r')\n",
    "# ax1.errorbar(range(len(yb10[2:])),np.mean([yb10[2:],yb10_2[2:],yb10_3[2:]],axis=0),label='RBF | ExpectedImprovement | lengthscale=1')#, color='g')\n",
    "# ax1.errorbar(range(len(yb10[2:])),np.mean([yb10[2:],yb10_2[2:],yb10_3[2:]],axis=0),np.std([yb10[2:],yb10_2[2:],yb10_3[2:]],axis=0), label='RBF | ExpectedImprovement | lengthscale=1')#, color='g')\n",
    "\n",
    "# ax1.plot(range(len(yb11)),yb11, label='RBF | ExpectedImprovement | lengthscale=10')#, color='b')\n",
    "# ax1.plot(range(len(yb11_2)),yb11_2, label='RBF | ExpectedImprovement | lengthscale=10')#, color='b')\n",
    "# ax1.plot(range(len(yb11_3)),yb11_3, label='RBF | ExpectedImprovement | lengthscale=10')#, color='b')\n",
    "# ax1.errorbar(range(len(yb11[2:])),np.mean([yb11[2:],yb11_2[2:],yb11_3[2:]],axis=0),label='RBF | ExpectedImprovement | lengthscale=10')#, color='g')\n",
    "# ax1.errorbar(range(len(yb11[2:])),np.mean([yb11[2:],yb11_2[2:],yb11_3[2:]],axis=0),np.std([yb11[2:],yb11_2[2:],yb11_3[2:]],axis=0), label='RBF | ExpectedImprovement | lengthscale=10')#, color='g')\n",
    "\n",
    "# ax1.plot(range(len(yb12)),yb12, label='RBF | ExpectedImprovement | lengthscale=50')#, color='b')\n",
    "\n",
    "# ax1.plot(range(len(yb13)),yb13, label='RBF | ProbabilityImprovement | lengthscale=0.1')#, color='g')\n",
    "# ax1.plot(range(len(yb13_2)),yb13_2, label='RBF | ProbabilityImprovement | lengthscale=0.1')#, color='g')\n",
    "# ax1.errorbar(range(len(yb13)),np.mean([yb13,yb13_2,yb13_3,axis=0), label='RBF | ProbabilityImprovement | lengthscale=0.1')#, color='g')\n",
    "# ax1.errorbar(range(len(yb13[2:])),np.mean([yb13[2:],yb13_2[2:],yb13_3[2:]],axis=0),np.std([yb13[2:],yb13_2[2:]],axis=0), label='RBF | ProbabilityImprovement | lengthscale=0.1')#, color='g')\n",
    "\n",
    "# ax1.plot(range(len(yb14)),yb14, label='RBF | ProbabilityImprovement | lengthscale=1')#, color='r')\n",
    "# ax1.plot(range(len(yb14_2)),yb14_2, label='RBF | ProbabilityImprovement | lengthscale=1')#, color='r')\n",
    "# ax1.plot(range(len(yb14_3)),yb14_3, label='RBF | ProbabilityImprovement | lengthscale=1')#, color='r')\n",
    "# ax1.errorbar(range(len(yb14)),np.mean([yb14,yb14_2,yb14_3,axis=0), label='RBF | ProbabilityImprovement | lengthscale=1')#, color='g')\n",
    "# ax1.errorbar(range(len(yb14[2:])),np.mean([yb14[2:],yb14_2[2:],yb14_3[2:]],axis=0),np.std([yb14[2:],yb14_2[2:],yb14_3[2:]],axis=0), label='RBF | ProbabilityImprovement | lengthscale=1')#, color='g')\n",
    "\n",
    "# ax1.plot(range(len(yb15)),yb15, label='RBF | ProbabilityImprovement | lengthscale=10')#, color='b')\n",
    "# ax1.plot(range(len(yb15_2)),yb15_2, label='RBF | ProbabilityImprovement | lengthscale=10')#, color='b')\n",
    "# ax1.plot(range(len(yb15_3)),yb15_3, label='RBF | ProbabilityImprovement | lengthscale=10')#, color='b')\n",
    "# ax1.errorbar(range(len(yb15)),np.mean([yb15,yb15_2,yb15_3,axis=0), label='RBF | ProbabilityImprovement | lengthscale=10')#, color='g')\n",
    "# ax1.errorbar(range(len(yb15[2:])),np.mean([yb15[2:],yb15_2[2:],yb15_3[2:]],axis=0),np.std([yb15[2:],yb15_2[2:],yb15_3[2:]],axis=0), label='RBF | ProbabilityImprovement | lengthscale=10')#, color='g')\n",
    "\n",
    "# ax1.plot(range(len(yb16)),yb16, label='RBF | ProbabilityImprovement | lengthscale=50')#, color='b')\n",
    "\n",
    "\n",
    "plt.xlabel('Iterations')\n",
    "plt.ylabel('Cost-function value')\n",
    "ax1.legend()"
   ]
  },
  {
   "cell_type": "code",
   "execution_count": 11,
   "metadata": {},
   "outputs": [],
   "source": [
    "model1 = pickle.load(open('./model_20k_MAT_EI_ls_0point1.p','rb'))\n",
    "model1_2 = pickle.load(open('./model2_20k_MAT_EI_ls_0point1.p','rb'))\n",
    "model1_3 = pickle.load(open('./model3_20k_MAT_EI_ls_0point1.p','rb'))\n",
    "\n",
    "model2 = pickle.load(open('./model_20k_MAT_EI_ls_1.p','rb')) #Peak at start\n",
    "model2_2 = pickle.load(open('./model2_20k_MAT_EI_ls_1.p','rb')) #Peak at start\n",
    "model2_3 = pickle.load(open('./model3_20k_MAT_EI_ls_1.p','rb')) #Peak at start\n",
    "\n",
    "model3 = pickle.load(open('./model_20k_MAT_EI_ls_10.p','rb')) #Peak at start\n",
    "model3_2 = pickle.load(open('./model2_20k_MAT_EI_ls_10.p','rb')) #Peak at start\n",
    "model3_3 = pickle.load(open('./model3_20k_MAT_EI_ls_10.p','rb')) #Peak at start\n",
    "\n",
    "model4 = pickle.load(open('./model_20k_MAT_EI_ls_50.p','rb')) #Peak at start\n",
    "\n",
    "model5 = pickle.load(open('./model_20k_MAT_PI_ls_0point1.p','rb')) #Peak at start\n",
    "model5_2 = pickle.load(open('./model2_20k_MAT_PI_ls_0point1.p','rb')) #Peak at start\n",
    "model5_3 = pickle.load(open('./model3_20k_MAT_PI_ls_0point1.p','rb')) #Peak at start\n",
    "\n",
    "model6 = pickle.load(open('./model_20k_MAT_PI_ls_1.p','rb')) #Empty medianFold\n",
    "model6_2 = pickle.load(open('./model2_20k_MAT_PI_ls_1.p','rb')) #Empty medianFold\n",
    "model6_3 = pickle.load(open('./model3_20k_MAT_PI_ls_1.p','rb')) #Empty medianFold\n",
    "\n",
    "model7 = pickle.load(open('./model_20k_MAT_PI_ls_10.p','rb')) #Empty medianFold\n",
    "model7_2 = pickle.load(open('./model2_20k_MAT_PI_ls_10.p','rb')) #Empty medianFold\n",
    "model7_3 = pickle.load(open('./model3_20k_MAT_PI_ls_10.p','rb')) #Empty medianFold\n",
    "\n",
    "model8 = pickle.load(open('./model_20k_MAT_PI_ls_50.p','rb')) #Empty medianFold\n",
    "\n",
    "model9 = pickle.load(open('./model_20k_RBF_EI_ls_0point1.p','rb')) #Empty medianFold\n",
    "model9_2 = pickle.load(open('./model2_20k_RBF_EI_ls_0point1.p','rb')) #Empty medianFold\n",
    "model9_3 = pickle.load(open('./model3_20k_RBF_EI_ls_0point1.p','rb')) #Empty medianFold\n",
    "\n",
    "model10 = pickle.load(open('./model_20k_RBF_EI_ls_1.p','rb')) #\n",
    "# model10_2 = pickle.load(open('./model2_20k_RBF_EI_ls_1.p','rb')) #\n",
    "# model10_3 = pickle.load(open('./model3_20k_RBF_EI_ls_1.p','rb')) #\n",
    "\n",
    "model11 = pickle.load(open('./model_20k_RBF_EI_ls_10.p','rb')) #\n",
    "# model11_2 = pickle.load(open('./model2_20k_RBF_EI_ls_10.p','rb')) #\n",
    "# model11_3 = pickle.load(open('./model3_20k_RBF_EI_ls_10.p','rb')) #\n",
    "\n",
    "model12 = pickle.load(open('./model_20k_RBF_EI_ls_50.p','rb')) #\n",
    "\n",
    "model13 = pickle.load(open('./model_20k_RBF_PI_ls_0point1.p','rb')) #\n",
    "model13_2 = pickle.load(open('./model2_20k_RBF_PI_ls_0point1.p','rb')) #\n",
    "model13_3 = pickle.load(open('./model3_20k_RBF_PI_ls_0point1.p','rb')) #\n",
    "\n",
    "model14 = pickle.load(open('./model_20k_RBF_PI_ls_1.p','rb')) #\n",
    "# model14_2 = pickle.load(open('./model2_20k_RBF_PI_ls_1.p','rb')) #\n",
    "# model14_3 = pickle.load(open('./model3_20k_RBF_PI_ls_1.p','rb')) #\n",
    "\n",
    "model15 = pickle.load(open('./model_20k_RBF_PI_ls_10.p','rb')) #\n",
    "# model15_2 = pickle.load(open('./model2_20k_RBF_PI_ls_10.p','rb')) #\n",
    "# model15_3 = pickle.load(open('./model3_20k_RBF_PI_ls_10.p','rb')) #\n",
    "\n",
    "model16 = pickle.load(open('./model_20k_RBF_PI_ls_50.p','rb')) #\n"
   ]
  },
  {
   "cell_type": "code",
   "execution_count": 27,
   "metadata": {},
   "outputs": [
    {
     "name": "stderr",
     "output_type": "stream",
     "text": [
      "/home/jordy/anaconda3/lib/python3.6/site-packages/sklearn/utils/deprecation.py:77: DeprecationWarning: Function y_train_mean is deprecated; Attribute y_train_mean was deprecated in version 0.19 and will be removed in 0.21.\n",
      "  warnings.warn(msg, category=DeprecationWarning)\n"
     ]
    },
    {
     "data": {
      "text/plain": [
       "array([148.61715289, 286.82690956, 162.66802574, 153.56857488,\n",
       "       163.94525022, 186.82817048, 146.1370377 , 186.95711218,\n",
       "       160.37133035, 158.35436165, 201.03381502, 159.26762747,\n",
       "       182.58405092, 175.86819279, 147.07325023, 147.40306846,\n",
       "       132.49167115, 145.85384187, 204.89299107, 152.58674385,\n",
       "       212.64326679, 148.54573481, 202.99545999, 213.9523843 ,\n",
       "       132.32028961, 194.73131015, 161.99289526, 139.47330994,\n",
       "       221.10770357, 176.46554625, 228.88719671, 134.15935727,\n",
       "       216.00730983, 281.53074247, 219.68972558, 148.12806013,\n",
       "       134.58195407, 240.80360174, 201.77134859, 224.05750763,\n",
       "       188.42083129, 192.71997299, 217.76282459, 186.27395793,\n",
       "       211.59070472, 182.18212055, 177.2845394 , 254.9466733 ,\n",
       "       139.92069771, 202.60208131, 244.14089105, 247.79896665,\n",
       "       231.30499511, 193.24399224, 201.90987152, 151.35762691,\n",
       "       235.48200419, 197.53461201, 224.00249769, 221.00142533,\n",
       "       142.77758296, 154.13678783, 174.47746427, 182.14794345,\n",
       "       178.18209596, 160.01744102, 172.02456423, 156.3129505 ,\n",
       "       205.60617803, 187.03087592, 239.68767898, 163.32919751,\n",
       "       193.07252644, 174.17097186, 176.40838254, 265.55022529,\n",
       "       234.69284265, 220.96694629, 169.97516741, 141.55539454,\n",
       "       174.31980078, 259.74052301, 195.15418173, 146.49496183,\n",
       "       178.24996198, 205.15123702, 172.50152006, 250.51755663,\n",
       "       159.56436483, 226.1609088 , 187.93155961, 172.75364103,\n",
       "       155.82404316, 189.04958954, 199.27698757, 178.55163057,\n",
       "       130.65561852, 147.7389722 , 196.1636082 , 128.19209147,\n",
       "       227.4337787 , 152.1979538 , 199.07437585, 155.1842977 ,\n",
       "       252.19485868, 135.43228383, 205.66907961, 190.70737575,\n",
       "       152.04168868, 159.54079923, 171.23536333, 228.10073163,\n",
       "       157.90601912, 182.17266839, 200.81280267, 229.29554117,\n",
       "       207.77434296, 136.36112189, 191.40725718, 216.0177099 ,\n",
       "       229.67530686, 176.27926706, 249.87259538, 214.90845196,\n",
       "       146.45572376, 214.90898589, 202.56868355, 185.31615795,\n",
       "       128.34362693, 136.63220002, 169.1443044 , 196.03069947,\n",
       "       210.71893126, 162.95731476, 267.37560958, 211.90299856,\n",
       "       172.64258835, 172.0424874 , 210.1347902 , 206.5660843 ,\n",
       "       229.2695828 , 173.73946191, 141.69686707, 149.7353692 ,\n",
       "       198.88883282, 224.13357079, 145.97505893, 178.84701308,\n",
       "       135.46050625, 186.44021478])"
      ]
     },
     "execution_count": 27,
     "metadata": {},
     "output_type": "execute_result"
    }
   ],
   "source": [
    "# plt.plot(range(len(model1_3.y_train_)),model1_3.y_train_)\n",
    "# model1.log_marginal_likelihood_value_,model16.log_marginal_likelihood_value_\n",
    "# plt.hist(model9.X_train_[:,3],bins=50)\n",
    "model1.y_train_+ model1.y_train_mean"
   ]
  },
  {
   "cell_type": "code",
   "execution_count": 216,
   "metadata": {},
   "outputs": [
    {
     "data": {
      "text/plain": [
       "array([[2.18553301e+03, 1.34290380e+05, 2.92897982e+07, 2.66962890e-01,\n",
       "        6.16112431e-05, 4.80636725e-01, 4.92661804e-01, 4.98294026e-01,\n",
       "        4.62162291e-01, 1.00000000e+00]])"
      ]
     },
     "execution_count": 216,
     "metadata": {},
     "output_type": "execute_result"
    }
   ],
   "source": [
    "np.mean([model1.X_train_[np.where(model1.y_train_==model1.y_train_.min())],\\\n",
    "model2.X_train_[np.where(model2.y_train_==model2.y_train_.min())],\\\n",
    "model3.X_train_[np.where(model3.y_train_==model3.y_train_.min())],\\\n",
    "model4.X_train_[np.where(model4.y_train_==model4.y_train_.min())],\\\n",
    "model5.X_train_[np.where(model5.y_train_==model5.y_train_.min())],\\\n",
    "model6.X_train_[np.where(model6.y_train_==model6.y_train_.min())],\\\n",
    "model7.X_train_[np.where(model7.y_train_==model7.y_train_.min())],\\\n",
    "model8.X_train_[np.where(model8.y_train_==model8.y_train_.min())],\\\n",
    "model9.X_train_[np.where(model9.y_train_==model9.y_train_.min())],\\\n",
    "model10.X_train_[np.where(model10.y_train_==model10.y_train_.min())],\\\n",
    "model11.X_train_[np.where(model11.y_train_==model11.y_train_.min())],\\\n",
    "model12.X_train_[np.where(model12.y_train_==model12.y_train_.min())],\\\n",
    "model13.X_train_[np.where(model13.y_train_==model13.y_train_.min())],\\\n",
    "model14.X_train_[np.where(model14.y_train_==model14.y_train_.min())],\\\n",
    "model15.X_train_[np.where(model15.y_train_==model15.y_train_.min())],\\\n",
    "model16.X_train_[np.where(model16.y_train_==model16.y_train_.min())]],axis=0)\n",
    "\n"
   ]
  },
  {
   "cell_type": "code",
   "execution_count": 66,
   "metadata": {},
   "outputs": [],
   "source": [
    "X = model16.X_train_[np.where(model16.y_train_==model16.y_train_.min())]\n"
   ]
  },
  {
   "cell_type": "code",
   "execution_count": 67,
   "metadata": {},
   "outputs": [
    {
     "name": "stdout",
     "output_type": "stream",
     "text": [
      "[2.30702074e+03 1.22715632e+05 3.23573728e+07 1.25036598e-01\n",
      " 3.48467833e-05 9.50496476e-01 8.10992826e-01 2.10999435e-01\n",
      " 2.85682879e-01 1.00000000e+00]\n"
     ]
    },
    {
     "data": {
      "text/plain": [
       "125.07762555333764"
      ]
     },
     "execution_count": 67,
     "metadata": {},
     "output_type": "execute_result"
    }
   ],
   "source": [
    "compareDist = medianFoldNorm('Data/polymer_20k.xlsx', polymer, [1,5,5,5,5,5])\n",
    "compareDist.costFunction(*X, plot=True)"
   ]
  },
  {
   "cell_type": "code",
   "execution_count": 5,
   "metadata": {
    "scrolled": true
   },
   "outputs": [
    {
     "name": "stdout",
     "output_type": "stream",
     "text": [
      "Using matplotlib backend: TkAgg\n"
     ]
    }
   ],
   "source": [
    "%matplotlib\n",
    "sim = X[0]\n",
    "\n",
    "out = polymer(*sim, final_plot=True, coloured=1)\n"
   ]
  },
  {
   "cell_type": "code",
   "execution_count": 8,
   "metadata": {},
   "outputs": [
    {
     "data": {
      "text/plain": [
       "((96487,), (2911,))"
      ]
     },
     "execution_count": 8,
     "metadata": {},
     "output_type": "execute_result"
    }
   ],
   "source": [
    "out[0].shape, out[1].shape, "
   ]
  }
 ],
 "metadata": {
  "kernelspec": {
   "display_name": "Python 3",
   "language": "python",
   "name": "python3"
  },
  "language_info": {
   "codemirror_mode": {
    "name": "ipython",
    "version": 3
   },
   "file_extension": ".py",
   "mimetype": "text/x-python",
   "name": "python",
   "nbconvert_exporter": "python",
   "pygments_lexer": "ipython3",
   "version": "3.6.4"
  }
 },
 "nbformat": 4,
 "nbformat_minor": 2
}
